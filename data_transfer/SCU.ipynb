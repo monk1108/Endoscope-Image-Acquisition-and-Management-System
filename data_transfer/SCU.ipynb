{
 "cells": [
  {
   "attachments": {},
   "cell_type": "markdown",
   "id": "dd7dddd0",
   "metadata": {},
   "source": [
    "## 任务2"
   ]
  },
  {
   "cell_type": "code",
   "execution_count": 2,
   "metadata": {},
   "outputs": [
    {
     "name": "stderr",
     "output_type": "stream",
     "text": [
      "I: Requesting Association\n",
      "D: Request Parameters:\n",
      "D: ======================= OUTGOING A-ASSOCIATE-RQ PDU ========================\n",
      "D: Our Implementation Class UID:      1.2.826.0.1.3680043.9.3811.2.0.2\n",
      "D: Our Implementation Version Name:   PYNETDICOM_202\n",
      "D: Application Context Name:    1.2.840.10008.3.1.1.1\n",
      "D: Calling Application Name:    sjy_SCU\n",
      "D: Called Application Name:     ANY-SCP\n",
      "D: Our Max PDU Receive Size:    16382\n",
      "D: Presentation Context:\n",
      "D:   Context ID:        1 (Proposed)\n",
      "D:     Abstract Syntax: =VL Endoscopic Image Storage\n",
      "D:     Proposed SCP/SCU Role: Default\n",
      "D:     Proposed Transfer Syntax:\n",
      "D:       =Implicit VR Little Endian\n",
      "D: Requested Extended Negotiation: None\n",
      "D: Requested Common Extended Negotiation: None\n",
      "D: Requested Asynchronous Operations Window Negotiation: None\n",
      "D: Requested User Identity Negotiation: None\n",
      "D: ========================== END A-ASSOCIATE-RQ PDU ==========================\n",
      "D: Accept Parameters:\n",
      "D: ======================= INCOMING A-ASSOCIATE-AC PDU ========================\n",
      "D: Their Implementation Class UID:    1.2.826.0.1.3680043.9.3811.2.0.2\n",
      "D: Their Implementation Version Name: PYNETDICOM_202\n",
      "D: Application Context Name:    1.2.840.10008.3.1.1.1\n",
      "D: Calling Application Name:    sjy_SCU\n",
      "D: Called Application Name:     ANY-SCP\n",
      "D: Their Max PDU Receive Size:  16382\n",
      "D: Presentation Contexts:\n",
      "D:   Context ID:        1 (Accepted)\n",
      "D:     Abstract Syntax: =VL Endoscopic Image Storage\n",
      "D:     Accepted SCP/SCU Role: Default\n",
      "D:     Accepted Transfer Syntax: =Implicit VR Little Endian\n",
      "D: Accepted Extended Negotiation: None\n",
      "D: Accepted Asynchronous Operations Window Negotiation: None\n",
      "D: User Identity Negotiation Response: None\n",
      "D: ========================== END A-ASSOCIATE-AC PDU ==========================\n",
      "I: Association Accepted\n",
      "I: Sending Store Request: MsgID 1\n",
      "D: ========================== OUTGOING DIMSE MESSAGE ==========================\n",
      "D: Message Type                  : C-STORE RQ\n",
      "D: Message ID                    : 1\n",
      "D: Affected SOP Class UID        : VL Endoscopic Image Storage\n",
      "D: Affected SOP Instance UID     : 1.2.826.0.1.3680043.8.498.58884710752811329474853545173710241440\n",
      "D: Data Set                      : Present\n",
      "D: Priority                      : Low\n",
      "D: ============================ END DIMSE MESSAGE =============================\n"
     ]
    },
    {
     "name": "stdout",
     "output_type": "stream",
     "text": [
      "Abstract Syntax: VL Endoscopic Image Storage\n",
      "Transfer Syntax(es):\n",
      "    =Implicit VR Little Endian\n",
      "sssssssssss (0002, 0002) Media Storage SOP Class UID         UI: VL Endoscopic Image Storage\n",
      "(0002, 0003) Media Storage SOP Instance UID      UI: 1.2.826.0.1.3680043.8.498.58884710752811329474853545173710241440\n",
      "(0002, 0010) Transfer Syntax UID                 UI: Implicit VR Little Endian\n",
      "(0002, 0012) Implementation Class UID            UI: 1.2.3.4\n"
     ]
    },
    {
     "name": "stderr",
     "output_type": "stream",
     "text": [
      "D: pydicom.read_dataset() TransferSyntax=\"Little Endian Implicit\"\n",
      "I: Received Store Response (Status: 0x0000 - Success)\n",
      "D: ========================== INCOMING DIMSE MESSAGE ==========================\n",
      "D: Message Type                  : C-STORE RSP\n",
      "D: Presentation Context ID       : 1\n",
      "D: Message ID Being Responded To : 1\n",
      "D: Affected SOP Class UID        : VL Endoscopic Image Storage\n",
      "D: Affected SOP Instance UID     : 1.2.826.0.1.3680043.8.498.58884710752811329474853545173710241440\n",
      "D: Status                        : 0x0000 - Success\n",
      "D: ============================ END DIMSE MESSAGE =============================\n",
      "I: Releasing Association\n"
     ]
    },
    {
     "name": "stdout",
     "output_type": "stream",
     "text": [
      "C-STORE request status: 0x0000\n"
     ]
    }
   ],
   "source": [
    "from pydicom.uid import ImplicitVRLittleEndian, ExplicitVRLittleEndian, DeflatedExplicitVRLittleEndian\n",
    "from pynetdicom import AE, debug_logger\n",
    "from pynetdicom.sop_class import *\n",
    "import pydicom\n",
    "import numpy as np\n",
    "import matplotlib.pyplot as plt\n",
    "import os\n",
    "from pydicom import dcmread\n",
    "from pydicom.data import get_testdata_file\n",
    "import hashlib\n",
    "import copy\n",
    "from PIL import Image\n",
    "import gdcm\n",
    "\n",
    "debug_logger()\n",
    "\n",
    "\n",
    "ae = AE()\n",
    "ae.ae_title = \"sjy_SCU\"\n",
    "\n",
    "ae.add_requested_context(\"1.2.840.10008.5.1.4.1.1.77.1.1\", ImplicitVRLittleEndian)\n",
    "#ae.add_requested_context(\"1.2.840.10008.5.1.4.1.1.2\", \"1.2.840.10008.1.2.4.90\")  # CT Image lossless\n",
    "#ae.add_requested_context(\"1.2.840.10008.5.1.4.1.1.2\", \"1.2.840.10008.1.2.4.91\")  # CT Image lossy\n",
    "# ae.add_requested_context(SOPClass(\"1.2.840.10008.5.1.4.1.1.4\"))  # MRI Image\n",
    "print(ae.requested_contexts[0])\n",
    "\n",
    "\n",
    "ds = dcmread(r'test19.dcm')\n",
    "\n",
    "\n",
    "file = r\"test19.dcm\"\n",
    "reader = gdcm.ImageReader()\n",
    "reader.SetFileName(file)\n",
    "if not reader.Read():\n",
    "    print(\"error\")\n",
    "ds_ori = pydicom.dcmread(\"test19.dcm\")\n",
    "print('sssssssssss',ds_ori.file_meta)#.TransferSyntaxUID\n",
    "\n",
    "\n",
    "\n",
    "assoc = ae.associate(\"127.0.0.1\", 11112)\n",
    "if assoc.is_established:\n",
    "    \n",
    "    status = assoc.send_c_store(ds_ori)\n",
    "\n",
    "    \n",
    "    if status:\n",
    "        \n",
    "        print('C-STORE request status: 0x{0:04x}'.format(status.Status))\n",
    "    else:\n",
    "        print('Connection timed out, was aborted or received invalid response')\n",
    "\n",
    "    assoc.release()\n",
    "else:\n",
    "    print('Association rejected, aborted or never connected')\n"
   ]
  }
 ],
 "metadata": {
  "kernelspec": {
   "display_name": "base",
   "language": "python",
   "name": "python3"
  },
  "language_info": {
   "codemirror_mode": {
    "name": "ipython",
    "version": 3
   },
   "file_extension": ".py",
   "mimetype": "text/x-python",
   "name": "python",
   "nbconvert_exporter": "python",
   "pygments_lexer": "ipython3",
   "version": "3.8.5"
  },
  "vscode": {
   "interpreter": {
    "hash": "5179d32cf6ec497baf3f8a3ef987cc77c5d2dc691fdde20a56316522f61a7323"
   }
  }
 },
 "nbformat": 4,
 "nbformat_minor": 5
}
